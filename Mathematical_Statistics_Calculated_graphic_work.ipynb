{
 "cells": [
  {
   "cell_type": "markdown",
   "id": "673f62fd",
   "metadata": {},
   "source": [
    "# <div align=\"center\"> РОЗРАХУНКОВО-ГРАФІЧНА РОБОТА №2 <br> з математичної статистики</div>\n",
    "\n",
    "Виконав студент 2 курсу <br> групи КА-06<br> Вергелюк Олександр<br> Андрійович <br> Перевірив: <br> Ільєнко Андрій <br> Борисович\n",
    "\n",
    "<div align=\"center\"> Київ — 2022</div>"
   ]
  },
  {
   "cell_type": "markdown",
   "id": "084317f4",
   "metadata": {},
   "source": [
    "<img src=\"./Image/Task.jpg\" alt=\"Завдання на розрахунково-графічну роботу\" width=\"800\"/>"
   ]
  },
  {
   "cell_type": "markdown",
   "id": "1e5db334",
   "metadata": {},
   "source": [
    "## ЗМІСТ"
   ]
  },
  {
   "cell_type": "markdown",
   "id": "84c65dcd",
   "metadata": {},
   "source": [
    "## ВСТУП\n",
    "У файлі data.txt знайти своє прізвище. Під ним буде набір із 100 чисел. Вони імітують вибірку, отриману із геренальної сукупності.\n"
   ]
  },
  {
   "cell_type": "code",
   "execution_count": 1,
   "id": "88d11a9e",
   "metadata": {},
   "outputs": [],
   "source": [
    "import numpy as np\n",
    "import pandas as pd\n",
    "import matplotlib.pyplot as plt\n",
    "%matplotlib inline  \n",
    "np.set_printoptions(linewidth=61)\n",
    "\n",
    "population = np.array(\n",
    "[[-3.47, 0.06, -1.11, -3.77, 1.13, 2.23, -3.51, -3.2, -0.64, -1.61],\n",
    " [-2.44, -5.44, -0.6, 1.94, -2.46, -1.12, -3.85, -1.0, -1.18, -0.48],\n",
    " [-0.91, -0.71, -1.29, -1.48, -0.76, -1.08, 0.4, 0.31, -3.09, 1.86],\n",
    " [-1.15, -2.45, 2.26, -6.78, -1.96, -3.22, 0.16, -1.5, -5.21, -4.11],\n",
    " [1.05, -1.91, -1.91, -2.75, -0.49, -0.85, -1.78, -4.36, -0.03, -1.64],\n",
    " [-3.43, -6.57, 0.44, 1.32, -0.04, -3.05, 3.52, 2.1, -1.99, -3.98],\n",
    " [-1.94, -1.55, -2.73, 0.12, -0.46, -1.39, -1.34, 1.18, -3.97, 0.87],\n",
    " [0.11, -2.84, 3.28, 2.48, -2.96, 0.99, 0.21, -1.91, -4.49, -5.08],\n",
    " [-3.44, -2.99, -1.95, -3.92, -4.37, -3.49, -2.1, -1.74, 1.16, 1.24],\n",
    " [-1.63, -2.34, -3.18, -3.6, -3.34, -2.48, 1.28, -5.48, -1.02, 0.32]]\n",
    "\n",
    ")\n",
    "\n",
    "population = population.reshape([100, ])"
   ]
  },
  {
   "cell_type": "markdown",
   "id": "cc58768d",
   "metadata": {},
   "source": [
    "Вибірка"
   ]
  },
  {
   "cell_type": "code",
   "execution_count": 2,
   "id": "fc23ac16",
   "metadata": {},
   "outputs": [
    {
     "name": "stdout",
     "output_type": "stream",
     "text": [
      "[-3.47  0.06 -1.11 -3.77  1.13  2.23 -3.51 -3.2  -0.64 -1.61\n",
      " -2.44 -5.44 -0.6   1.94 -2.46 -1.12 -3.85 -1.   -1.18 -0.48\n",
      " -0.91 -0.71 -1.29 -1.48 -0.76 -1.08  0.4   0.31 -3.09  1.86\n",
      " -1.15 -2.45  2.26 -6.78 -1.96 -3.22  0.16 -1.5  -5.21 -4.11\n",
      "  1.05 -1.91 -1.91 -2.75 -0.49 -0.85 -1.78 -4.36 -0.03 -1.64\n",
      " -3.43 -6.57  0.44  1.32 -0.04 -3.05  3.52  2.1  -1.99 -3.98\n",
      " -1.94 -1.55 -2.73  0.12 -0.46 -1.39 -1.34  1.18 -3.97  0.87\n",
      "  0.11 -2.84  3.28  2.48 -2.96  0.99  0.21 -1.91 -4.49 -5.08\n",
      " -3.44 -2.99 -1.95 -3.92 -4.37 -3.49 -2.1  -1.74  1.16  1.24\n",
      " -1.63 -2.34 -3.18 -3.6  -3.34 -2.48  1.28 -5.48 -1.02  0.32]\n"
     ]
    }
   ],
   "source": [
    "print(population)"
   ]
  },
  {
   "cell_type": "markdown",
   "id": "cddf1900",
   "metadata": {},
   "source": [
    "Відсортована вибірка"
   ]
  },
  {
   "cell_type": "code",
   "execution_count": 3,
   "id": "190686ec",
   "metadata": {},
   "outputs": [
    {
     "name": "stdout",
     "output_type": "stream",
     "text": [
      "[-6.78 -6.57 -5.48 -5.44 -5.21 -5.08 -4.49 -4.37 -4.36 -4.11\n",
      " -3.98 -3.97 -3.92 -3.85 -3.77 -3.6  -3.51 -3.49 -3.47 -3.44\n",
      " -3.43 -3.34 -3.22 -3.2  -3.18 -3.09 -3.05 -2.99 -2.96 -2.84\n",
      " -2.75 -2.73 -2.48 -2.46 -2.45 -2.44 -2.34 -2.1  -1.99 -1.96\n",
      " -1.95 -1.94 -1.91 -1.91 -1.91 -1.78 -1.74 -1.64 -1.63 -1.61\n",
      " -1.55 -1.5  -1.48 -1.39 -1.34 -1.29 -1.18 -1.15 -1.12 -1.11\n",
      " -1.08 -1.02 -1.   -0.91 -0.85 -0.76 -0.71 -0.64 -0.6  -0.49\n",
      " -0.48 -0.46 -0.04 -0.03  0.06  0.11  0.12  0.16  0.21  0.31\n",
      "  0.32  0.4   0.44  0.87  0.99  1.05  1.13  1.16  1.18  1.24\n",
      "  1.28  1.32  1.86  1.94  2.1   2.23  2.26  2.48  3.28  3.52]\n"
     ]
    }
   ],
   "source": [
    "sort_population = np.sort(population)\n",
    "print(sort_population)"
   ]
  },
  {
   "cell_type": "markdown",
   "id": "1faa7f2d",
   "metadata": {},
   "source": [
    "## 1 Первинний аналіз вибірки\n",
    "Так як у представленій вибірці дані з неперервного розподілу, то побудуємо інтервальний статистичний ряд. Спочатку знайдемо кількість інтервалів за формулою Стерджеса та розмах вибірки."
   ]
  },
  {
   "cell_type": "code",
   "execution_count": 4,
   "id": "dc9ad5cb",
   "metadata": {},
   "outputs": [
    {
     "name": "stdout",
     "output_type": "stream",
     "text": [
      "Кількість інтервалів: 8 \n",
      "Розмах вибірки: 10.3\n"
     ]
    }
   ],
   "source": [
    "n = len(sort_population)\n",
    "population_max = sort_population[-1]\n",
    "population_min = sort_population[0]\n",
    "population_range = population_max - population_min\n",
    "nums_of_intervals = int(np.ceil(1 + np.log2(100)))\n",
    "\n",
    "print('Кількість інтервалів: {0:d} \\nРозмах вибірки: {1}'.format(nums_of_intervals, population_range))"
   ]
  },
  {
   "cell_type": "markdown",
   "id": "0439fecf",
   "metadata": {},
   "source": [
    "Візьмемо таку довжину інтервалів, щоб вона мала один знак після коми."
   ]
  },
  {
   "cell_type": "code",
   "execution_count": 5,
   "id": "fe4a45e5",
   "metadata": {},
   "outputs": [
    {
     "name": "stdout",
     "output_type": "stream",
     "text": [
      "Intervals length: 1.3\n"
     ]
    }
   ],
   "source": [
    "h = np.ceil(population_range * 10 / nums_of_intervals) / 10\n",
    "\n",
    "print('Intervals length: {0}'.format(h))"
   ]
  },
  {
   "cell_type": "markdown",
   "id": "e32a05b4",
   "metadata": {},
   "source": [
    "Тоді буде такий розподіл на інтервали:"
   ]
  },
  {
   "cell_type": "code",
   "execution_count": 6,
   "id": "645d5e3d",
   "metadata": {},
   "outputs": [],
   "source": [
    "stats = pd.DataFrame(index=range(1, 1+nums_of_intervals), columns=['$$y_{k-1}$$', '$y_k$', '$x^*$', '$n$', '$n^*$', '$\\nu$', '$\\nu^*$'])\n",
    "\n",
    "stats.loc[1, '$$y_{k-1}$$'] = np.floor(population_min * 10) / 10\n",
    "stats.loc[8, '$y_k$'] = stats.loc[1, '$$y_{k-1}$$'] + h * nums_of_intervals\n",
    "\n",
    "for i in range(1, nums_of_intervals):\n",
    "    stats.loc[i+1, '$$y_{k-1}$$'] = stats.loc[i, '$$y_{k-1}$$'] + h\n",
    "    stats.loc[i, '$y_k$'] = stats.loc[i+1, '$$y_{k-1}$$']\n",
    "\n",
    "stats['$x^*$'] = (stats['$$y_{k-1}$$'] + stats['$y_k$']) / 2\n",
    "\n",
    "for i in range(1, 1+nums_of_intervals):\n",
    "    stats.loc[i, '$n$'] = ((stats.loc[i, '$$y_{k-1}$$'] <= population) \n",
    "                                     & (population < stats.loc[i, '$y_k$'])).sum()\n",
    "    stats.loc[i, '$\\nu$'] = stats.loc[i, '$n$'] / n\n",
    "    try:\n",
    "        stats.loc[i, '$n^*$'] = stats.loc[i-1, '$n^*$'] + stats.loc[i, '$n$']\n",
    "        stats.loc[i, '$\\nu^*$'] = stats.loc[i-1, '$\\nu^*$'] + stats.loc[i, '$\\nu$']\n",
    "    except KeyError:\n",
    "        stats.loc[i, '$n^*$'] = stats.loc[i, '$n$']\n",
    "        stats.loc[i, '$\\nu^*$'] = stats.loc[i, '$\\nu$']"
   ]
  },
  {
   "cell_type": "markdown",
   "id": "2d6dbfa9",
   "metadata": {},
   "source": [
    "Отримано статистичний ряд:"
   ]
  },
  {
   "cell_type": "code",
   "execution_count": 7,
   "id": "5101fc1f",
   "metadata": {
    "scrolled": true
   },
   "outputs": [
    {
     "data": {
      "text/html": [
       "<div>\n",
       "<style scoped>\n",
       "    .dataframe tbody tr th:only-of-type {\n",
       "        vertical-align: middle;\n",
       "    }\n",
       "\n",
       "    .dataframe tbody tr th {\n",
       "        vertical-align: top;\n",
       "    }\n",
       "\n",
       "    .dataframe thead th {\n",
       "        text-align: right;\n",
       "    }\n",
       "</style>\n",
       "<table border=\"1\" class=\"dataframe\">\n",
       "  <thead>\n",
       "    <tr style=\"text-align: right;\">\n",
       "      <th></th>\n",
       "      <th>$$y_{k-1}$$</th>\n",
       "      <th>$y_k$</th>\n",
       "      <th>$x^*$</th>\n",
       "      <th>$n$</th>\n",
       "      <th>$n^*$</th>\n",
       "      <th>$\\nu$</th>\n",
       "      <th>$\\nu^*$</th>\n",
       "    </tr>\n",
       "  </thead>\n",
       "  <tbody>\n",
       "    <tr>\n",
       "      <th>1</th>\n",
       "      <td>-6.8</td>\n",
       "      <td>-5.5</td>\n",
       "      <td>-6.15</td>\n",
       "      <td>2</td>\n",
       "      <td>2</td>\n",
       "      <td>0.02</td>\n",
       "      <td>0.02</td>\n",
       "    </tr>\n",
       "    <tr>\n",
       "      <th>2</th>\n",
       "      <td>-5.5</td>\n",
       "      <td>-4.2</td>\n",
       "      <td>-4.85</td>\n",
       "      <td>7</td>\n",
       "      <td>9</td>\n",
       "      <td>0.07</td>\n",
       "      <td>0.09</td>\n",
       "    </tr>\n",
       "    <tr>\n",
       "      <th>3</th>\n",
       "      <td>-4.2</td>\n",
       "      <td>-2.9</td>\n",
       "      <td>-3.55</td>\n",
       "      <td>20</td>\n",
       "      <td>29</td>\n",
       "      <td>0.2</td>\n",
       "      <td>0.29</td>\n",
       "    </tr>\n",
       "    <tr>\n",
       "      <th>4</th>\n",
       "      <td>-2.9</td>\n",
       "      <td>-1.6</td>\n",
       "      <td>-2.25</td>\n",
       "      <td>21</td>\n",
       "      <td>50</td>\n",
       "      <td>0.21</td>\n",
       "      <td>0.5</td>\n",
       "    </tr>\n",
       "    <tr>\n",
       "      <th>5</th>\n",
       "      <td>-1.6</td>\n",
       "      <td>-0.3</td>\n",
       "      <td>-0.95</td>\n",
       "      <td>22</td>\n",
       "      <td>72</td>\n",
       "      <td>0.22</td>\n",
       "      <td>0.72</td>\n",
       "    </tr>\n",
       "    <tr>\n",
       "      <th>6</th>\n",
       "      <td>-0.3</td>\n",
       "      <td>1.0</td>\n",
       "      <td>0.35</td>\n",
       "      <td>13</td>\n",
       "      <td>85</td>\n",
       "      <td>0.13</td>\n",
       "      <td>0.85</td>\n",
       "    </tr>\n",
       "    <tr>\n",
       "      <th>7</th>\n",
       "      <td>1.0</td>\n",
       "      <td>2.3</td>\n",
       "      <td>1.65</td>\n",
       "      <td>12</td>\n",
       "      <td>97</td>\n",
       "      <td>0.12</td>\n",
       "      <td>0.97</td>\n",
       "    </tr>\n",
       "    <tr>\n",
       "      <th>8</th>\n",
       "      <td>2.3</td>\n",
       "      <td>3.6</td>\n",
       "      <td>2.95</td>\n",
       "      <td>3</td>\n",
       "      <td>100</td>\n",
       "      <td>0.03</td>\n",
       "      <td>1.0</td>\n",
       "    </tr>\n",
       "  </tbody>\n",
       "</table>\n",
       "</div>"
      ],
      "text/plain": [
       "  $$y_{k-1}$$ $y_k$ $x^*$ $n$ $n^*$ $\\nu$ $\\nu^*$\n",
       "1        -6.8  -5.5 -6.15   2     2  0.02    0.02\n",
       "2        -5.5  -4.2 -4.85   7     9  0.07    0.09\n",
       "3        -4.2  -2.9 -3.55  20    29   0.2    0.29\n",
       "4        -2.9  -1.6 -2.25  21    50  0.21     0.5\n",
       "5        -1.6  -0.3 -0.95  22    72  0.22    0.72\n",
       "6        -0.3   1.0  0.35  13    85  0.13    0.85\n",
       "7         1.0   2.3  1.65  12    97  0.12    0.97\n",
       "8         2.3   3.6  2.95   3   100  0.03     1.0"
      ]
     },
     "execution_count": 7,
     "metadata": {},
     "output_type": "execute_result"
    }
   ],
   "source": [
    "stats"
   ]
  },
  {
   "cell_type": "markdown",
   "id": "8e18a75f",
   "metadata": {},
   "source": [
    "Тепер за статистичним рядом можна побудувати емпіричну інтервальну функцію розподілу для даної вибірки:\n",
    "\n",
    "$$ F_n^*(x) =\n",
    "\\begin{cases}\n",
    "    0 & x \\le -6.8\\\\\n",
    "    0.02 & -6.8 < x \\le -5.5\\\\\n",
    "    0.09 & -5.5 < x \\le -4.2\\\\\n",
    "    0.29 & -4.2 < x \\le -2.9\\\\\n",
    "    0.5 & -2.9 < x \\le -1.6\\\\\n",
    "    0.72 & -1.6 < x \\le -0.3\\\\\n",
    "    0.85 & -0.3 < x \\le 1\\\\\n",
    "    0.97 & 1 < x \\le 2.3\\\\\n",
    "    1 & 2.3 < x \\le 3.5\\\\\n",
    "\\end{cases} \n",
    "$$"
   ]
  },
  {
   "cell_type": "markdown",
   "id": "6df16a11",
   "metadata": {},
   "source": [
    "Тепер побудуємо графік умпіричної функції розподілу."
   ]
  },
  {
   "cell_type": "code",
   "execution_count": 8,
   "id": "5373b87c",
   "metadata": {},
   "outputs": [
    {
     "data": {
      "image/png": "[encoded data removed]",
      "text/plain": [
       "<Figure size 432x288 with 1 Axes>"
      ]
     },
     "metadata": {
      "needs_background": "light"
     },
     "output_type": "display_data"
    }
   ],
   "source": [
    "ax, fig = fig, ax = plt.subplots()\n",
    "\n",
    "x_ax_min = stats.loc[1, \"$$y_{k-1}$$\"]-h\n",
    "x_ax_max = stats.loc[nums_of_intervals, \"$y_k$\"]+h\n",
    "ax.set_xlim(x_ax_min, x_ax_max)\n",
    "\n",
    "ax.plot([x_ax_min, stats.loc[1, '$$y_{k-1}$$']], [0]*2, color='b')\n",
    "ax.plot([stats.loc[nums_of_intervals, '$y_k$'], x_ax_max], [1]*2, color='b')\n",
    "\n",
    "for i in range(1, 1+nums_of_intervals):\n",
    "    ax.plot([stats.loc[i, '$$y_{k-1}$$'], stats.loc[i, '$y_k$']], [stats.loc[i, '$\\nu^*$']]*2, color='b') \n",
    "\n",
    "plt.grid()\n",
    "\n",
    "plt.savefig('./Image/CDF.png')\n",
    "plt.show()"
   ]
  },
  {
   "cell_type": "markdown",
   "id": "425e4e0a",
   "metadata": {},
   "source": [
    "Тепер побудуємо гістограму нашої вибірки."
   ]
  },
  {
   "cell_type": "code",
   "execution_count": 9,
   "id": "7246064a",
   "metadata": {},
   "outputs": [
    {
     "data": {
      "image/png": "[encoded data removed]",
      "text/plain": [
       "<Figure size 432x288 with 1 Axes>"
      ]
     },
     "metadata": {
      "needs_background": "light"
     },
     "output_type": "display_data"
    }
   ],
   "source": [
    "# ax, fig = plt.subplots()\n",
    "\n",
    "plt.hist(stats['$x^*$'], nums_of_intervals, weights=stats['$\\nu$']/h)\n",
    "\n",
    "plt.savefig('./Image/Histogram.png')\n",
    "plt.show()"
   ]
  },
  {
   "cell_type": "markdown",
   "id": "9ecb5227",
   "metadata": {},
   "source": [
    "Побудуємо box-and-whisker для даної вибірки."
   ]
  },
  {
   "cell_type": "code",
   "execution_count": 10,
   "id": "09725512",
   "metadata": {},
   "outputs": [
    {
     "data": {
      "image/png": "[encoded data removed]",
      "text/plain": [
       "<Figure size 432x288 with 1 Axes>"
      ]
     },
     "metadata": {
      "needs_background": "light"
     },
     "output_type": "display_data"
    }
   ],
   "source": [
    "plt.boxplot(population, vert=False, showmeans=True)\n",
    "\n",
    "plt.savefig('./Image/Box_and_whisker.png')\n",
    "plt.show()"
   ]
  },
  {
   "cell_type": "markdown",
   "id": "cadb718d",
   "metadata": {},
   "source": [
    "## 2 Описові статистики\n",
    "Тепер знайдемо описові статистики вибірки: вибіркове середнє, вибіркову дисперсію, виправлену вибіркову десперсію, вибіркову медіану, мибіркову моду, вибіркові коефіцієнти асиметрії та ексцесу."
   ]
  },
  {
   "cell_type": "markdown",
   "id": "b37ae606",
   "metadata": {},
   "source": [
    "Знайдемо вибіркове середнє:\n",
    "\n",
    "$$ \\overline{x} = \\frac{1}{n}\\sum_{i=1}^{n}x_i$$"
   ]
  },
  {
   "cell_type": "code",
   "execution_count": 11,
   "id": "0bcc8a61",
   "metadata": {},
   "outputs": [
    {
     "name": "stdout",
     "output_type": "stream",
     "text": [
      "Вибіркове середнє: -1.5207\n"
     ]
    }
   ],
   "source": [
    "population_mean = population.mean()\n",
    "print('Вибіркове середнє: {0: .4f}'.format(population_mean))"
   ]
  },
  {
   "cell_type": "markdown",
   "id": "93aee762",
   "metadata": {},
   "source": [
    "Тепер обчислимо вибіркову дисперсію\n",
    "\n",
    "$$ \\mathbb{D}\\xi^{**} = \\frac{1}{n}\\sum_{i=1}^{n}(x_i - \\overline{x})^2 $$"
   ]
  },
  {
   "cell_type": "code",
   "execution_count": 16,
   "id": "aa6f3a1a",
   "metadata": {},
   "outputs": [
    {
     "name": "stdout",
     "output_type": "stream",
     "text": [
      "Вибіркова дисперсія:  4.588835\n"
     ]
    }
   ],
   "source": [
    "population_variance = np.sum((population - population_mean)**2) / n\n",
    "print('Вибіркова дисперсія: {0: f}'.format(population_variance))"
   ]
  },
  {
   "cell_type": "markdown",
   "id": "212ea810",
   "metadata": {},
   "source": [
    "Знайдемо виправлену вибіркову дисперсію\n",
    "\n",
    "$$ \\mathbb{D}\\xi^{***} = \\frac{1}{n-1}\\sum_{i=1}^{n}(x_i - \\overline{x})^2 $$"
   ]
  },
  {
   "cell_type": "code",
   "execution_count": 13,
   "id": "b37c6010",
   "metadata": {},
   "outputs": [
    {
     "name": "stdout",
     "output_type": "stream",
     "text": [
      "Виправлена вибіркова дисперсія:  4.635186\n"
     ]
    }
   ],
   "source": [
    "population_sample_varience = np.sum((population - population_mean)**2) / (n-1)\n",
    "print('Виправлена вибіркова дисперсія: {0: f}'.format(population_sample_varience))"
   ]
  },
  {
   "cell_type": "markdown",
   "id": "064acac8",
   "metadata": {},
   "source": [
    "Оскільки в нашій вибірці n = 100, то медіана вибірки:\n",
    "\n",
    "$$ M_e^* = \\frac{x_{(50)} + x_{(51)}}{2} $$"
   ]
  },
  {
   "cell_type": "code",
   "execution_count": 14,
   "id": "4317691b",
   "metadata": {},
   "outputs": [
    {
     "name": "stdout",
     "output_type": "stream",
     "text": [
      "Вибіркова медіана: -1.58\n"
     ]
    },
    {
     "data": {
      "text/plain": [
       "-1.58"
      ]
     },
     "execution_count": 14,
     "metadata": {},
     "output_type": "execute_result"
    }
   ],
   "source": [
    "population_mediana = (sort_population[49] + sort_population[50]) / 2\n",
    "print('Вибіркова медіана: {0: .2f}'.format(population_mediana))\n",
    "np.median(sort_population)"
   ]
  },
  {
   "cell_type": "markdown",
   "id": "e9062cb3",
   "metadata": {},
   "source": [
    "Оскільки наша вибірка з неперервного розподілу генеральної сукупності, то вибіркова мода визначається за формулою:\n",
    "\n",
    "$$ M_o^* = y_{mo-1} + h \\frac{n_i - n_{i-1}}{(n_i - n_{i-1}) + (n_i - n_{i+1})} $$"
   ]
  },
  {
   "cell_type": "code",
   "execution_count": 15,
   "id": "b78f4e31",
   "metadata": {},
   "outputs": [
    {
     "name": "stdout",
     "output_type": "stream",
     "text": [
      "Вибіркова мода: -1.470000\n"
     ]
    }
   ],
   "source": [
    "i = stats[stats['$n$'] == stats['$n$'].max()].index[0]\n",
    "population_moda = stats.loc[i, '$$y_{k-1}$$'] + h * (stats.loc[i, '$n$'] - stats.loc[i-1, '$n$']) / ((stats.loc[i, '$n$'] - stats.loc[i-1, '$n$']) + (stats.loc[i, '$n$'] - stats.loc[i+1, '$n$']))\n",
    "print('Вибіркова мода: {0: f}'.format(population_moda))"
   ]
  },
  {
   "cell_type": "markdown",
   "id": "30316368",
   "metadata": {},
   "source": [
    "Обчислимо вибірковий коефіцієнт асиметрії:\n",
    "\n",
    "$$ A_s = \\frac{\\overline{M_3}}{s_0^3} = \\frac{\\sum_{i=1}^{n}(x_i - \\overline{x})^3}{ns_0^3} $$"
   ]
  },
  {
   "cell_type": "code",
   "execution_count": 18,
   "id": "f99441e2",
   "metadata": {},
   "outputs": [
    {
     "name": "stdout",
     "output_type": "stream",
     "text": [
      "Коефіцієнт асиметрії:  0.031797\n"
     ]
    }
   ],
   "source": [
    "population_skewness = np.sum((population - population_mean)**3) / (n * population_variance ** (3/2))\n",
    "print('Коефіцієнт асиметрії: {0: f}'.format(population_skewness))"
   ]
  },
  {
   "cell_type": "markdown",
   "id": "3520f23d",
   "metadata": {},
   "source": [
    "Знайдемо вибірковий коефіцієнт ексцесу:\n",
    "\n",
    "$$ E_k = \\frac{\\overline{M_4}}{s_0^4} = \\frac{\\sum_{i=1}^{n}(x_i - \\overline{x})^4}{ns_0^4} $$"
   ]
  },
  {
   "cell_type": "code",
   "execution_count": 23,
   "id": "d802fb50",
   "metadata": {},
   "outputs": [
    {
     "name": "stdout",
     "output_type": "stream",
     "text": [
      "Коефіцієнт ексцесу: -0.314530\n"
     ]
    }
   ],
   "source": [
    "population_kurtosis = np.sum((population - population_mean)**4) / (n * population_variance ** (2)) - 3\n",
    "print('Коефіцієнт ексцесу: {0: f}'.format(population_kurtosis))"
   ]
  },
  {
   "cell_type": "markdown",
   "id": "f3fa65d2",
   "metadata": {},
   "source": [
    "## 3 Гіпотеза про розподіл генеральної сукупності"
   ]
  },
  {
   "cell_type": "code",
   "execution_count": null,
   "id": "f52ec6d1",
   "metadata": {},
   "outputs": [],
   "source": []
  }
 ],
 "metadata": {
  "kernelspec": {
   "display_name": "Python 3 (ipykernel)",
   "language": "python",
   "name": "python3"
  },
  "language_info": {
   "codemirror_mode": {
    "name": "ipython",
    "version": 3
   },
   "file_extension": ".py",
   "mimetype": "text/x-python",
   "name": "python",
   "nbconvert_exporter": "python",
   "pygments_lexer": "ipython3",
   "version": "3.8.3"
  }
 },
 "nbformat": 4,
 "nbformat_minor": 5
}
